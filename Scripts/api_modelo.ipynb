{
 "cells": [
  {
   "cell_type": "code",
   "execution_count": 1,
   "id": "c5326f2a",
   "metadata": {},
   "outputs": [
    {
     "name": "stderr",
     "output_type": "stream",
     "text": [
      "c:\\Users\\Haine\\miniconda3\\envs\\Proyecto_2\\Lib\\site-packages\\sklearn\\base.py:440: InconsistentVersionWarning: Trying to unpickle estimator LogisticRegression from version 1.1.3 when using version 1.7.0. This might lead to breaking code or invalid results. Use at your own risk. For more info please refer to:\n",
      "https://scikit-learn.org/stable/model_persistence.html#security-maintainability-limitations\n",
      "  warnings.warn(\n"
     ]
    }
   ],
   "source": [
    "# api_modelo.py\n",
    "from fastapi import FastAPI\n",
    "from pydantic import BaseModel\n",
    "import joblib\n",
    "import numpy as np\n",
    "\n",
    "app = FastAPI()\n",
    "model = joblib.load(\"C:\\\\Users\\\\Haine\\\\OneDrive\\\\Escritorio\\\\Proyecto_2\\\\Scripts\\\\modelo_entrenado_v170.pkl\")\n",
    "\n",
    "class Cliente(BaseModel):\n",
    "    age: int\n",
    "    balance: float\n",
    "    campaign: int\n",
    "    # añade todos los campos necesarios\n",
    "\n",
    "@app.post(\"/predecir\")\n",
    "def predecir(cliente: Cliente):\n",
    "    datos = np.array([[cliente.age, cliente.balance, cliente.campaign]])\n",
    "    prob = model.predict_proba(datos)[0][1]\n",
    "    return {\"probabilidad_si\": prob}\n"
   ]
  },
  {
   "cell_type": "code",
   "execution_count": null,
   "id": "56a539c8",
   "metadata": {},
   "outputs": [],
   "source": [
    "from fastapi import FastAPI\n",
    "from pydantic import BaseModel\n",
    "import joblib\n",
    "import numpy as np\n",
    "import os\n",
    "\n",
    "model_path = \"modelo_entrenado_v170.pkl\"\n",
    "model = joblib.load(model_path)\n",
    "\n",
    "app = FastAPI()\n",
    "\n",
    "class Cliente(BaseModel):\n",
    "    age: int\n",
    "    balance: float\n",
    "    campaign: int\n",
    "\n",
    "@app.post(\"/predecir\")\n",
    "def predecir(cliente: Cliente):\n",
    "    datos = np.array([[cliente.age, cliente.balance, cliente.campaign]])\n",
    "    prob = model.predict_proba(datos)[0][1]\n",
    "    return {\"probabilidad_si\": prob}\n"
   ]
  }
 ],
 "metadata": {
  "kernelspec": {
   "display_name": "Proyecto_2",
   "language": "python",
   "name": "python3"
  },
  "language_info": {
   "codemirror_mode": {
    "name": "ipython",
    "version": 3
   },
   "file_extension": ".py",
   "mimetype": "text/x-python",
   "name": "python",
   "nbconvert_exporter": "python",
   "pygments_lexer": "ipython3",
   "version": "3.13.2"
  }
 },
 "nbformat": 4,
 "nbformat_minor": 5
}
