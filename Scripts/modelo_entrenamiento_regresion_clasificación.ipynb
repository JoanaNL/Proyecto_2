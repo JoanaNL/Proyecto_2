{
 "cells": [
  {
   "cell_type": "code",
   "execution_count": 1,
   "id": "8ddea1b0",
   "metadata": {},
   "outputs": [
    {
     "name": "stdout",
     "output_type": "stream",
     "text": [
      "Columnas categóricas detectadas: ['job', 'marital', 'education', 'default', 'housing', 'loan', 'month', 'poutcome', 'response']\n",
      "\n",
      "Columnas no numéricas después de codificación: []\n",
      "\n",
      "🔍 Clasificación (Regresión Logística):\n",
      "Accuracy: 0.9985310319500551\n",
      "Confusion Matrix:\n",
      " [[7158    8]\n",
      " [   4  999]]\n",
      "Classification Report:\n",
      "               precision    recall  f1-score   support\n",
      "\n",
      "           0       1.00      1.00      1.00      7166\n",
      "           1       0.99      1.00      0.99      1003\n",
      "\n",
      "    accuracy                           1.00      8169\n",
      "   macro avg       1.00      1.00      1.00      8169\n",
      "weighted avg       1.00      1.00      1.00      8169\n",
      "\n"
     ]
    },
    {
     "name": "stderr",
     "output_type": "stream",
     "text": [
      "c:\\Users\\Haine\\miniconda3\\Lib\\site-packages\\sklearn\\linear_model\\_logistic.py:470: ConvergenceWarning: lbfgs failed to converge after 1000 iteration(s) (status=1):\n",
      "STOP: TOTAL NO. OF ITERATIONS REACHED LIMIT\n",
      "\n",
      "Increase the number of iterations to improve the convergence (max_iter=1000).\n",
      "You might also want to scale the data as shown in:\n",
      "    https://scikit-learn.org/stable/modules/preprocessing.html\n",
      "Please also refer to the documentation for alternative solver options:\n",
      "    https://scikit-learn.org/stable/modules/linear_model.html#logistic-regression\n",
      "  n_iter_i = _check_optimize_result(\n"
     ]
    },
    {
     "data": {
      "image/png": "[encoded data removed]",
      "text/plain": [
       "<Figure size 640x480 with 2 Axes>"
      ]
     },
     "metadata": {},
     "output_type": "display_data"
    }
   ],
   "source": [
    "import pandas as pd\n",
    "import numpy as np\n",
    "from sklearn.model_selection import train_test_split\n",
    "from sklearn.linear_model import LogisticRegression, LinearRegression\n",
    "from sklearn.metrics import classification_report, confusion_matrix, accuracy_score, mean_squared_error\n",
    "import matplotlib.pyplot as plt\n",
    "import seaborn as sns\n",
    "\n",
    "# =========================\n",
    "# 1. Cargar el archivo CSV\n",
    "# =========================\n",
    "df = pd.read_csv(\"C:\\\\Users\\\\Haine\\\\OneDrive\\\\Escritorio\\\\Proyecto_2\\\\Data\\\\bank_cleaned.csv\")\n",
    "\n",
    "# =========================\n",
    "# 2. Preparar columnas categóricas\n",
    "# =========================\n",
    "# Detectar columnas categóricas (texto)\n",
    "cat_cols = df.select_dtypes(include=['object']).columns.tolist()\n",
    "\n",
    "# Mostrar columnas categóricas encontradas\n",
    "print(\"Columnas categóricas detectadas:\", cat_cols)\n",
    "\n",
    "# Convertir a variables dummy (0/1), eliminar primera categoría para evitar colinealidad\n",
    "df = pd.get_dummies(df, columns=cat_cols, drop_first=True)\n",
    "\n",
    "# Verificar que no quedan columnas categóricas\n",
    "print(\"\\nColumnas no numéricas después de codificación:\", df.select_dtypes(include='object').columns.tolist())\n",
    "\n",
    "\n",
    "# =========================\n",
    "# 3. Clasificación: Predecir 'response_binary'\n",
    "# =========================\n",
    "if 'response_binary' in df.columns:\n",
    "    X = df.drop(columns=['response_binary'])\n",
    "    y = df['response_binary']\n",
    "\n",
    "    # División entrenamiento / prueba\n",
    "    X_train, X_test, y_train, y_test = train_test_split(X, y, test_size=0.2, random_state=42)\n",
    "\n",
    "    # Entrenar modelo\n",
    "    model = LogisticRegression(max_iter=1000)\n",
    "    model.fit(X_train, y_train)\n",
    "\n",
    "    # Predicciones\n",
    "    y_pred = model.predict(X_test)\n",
    "\n",
    "    # Evaluación\n",
    "    print(\"\\n🔍 Clasificación (Regresión Logística):\")\n",
    "    print(\"Accuracy:\", accuracy_score(y_test, y_pred))\n",
    "    print(\"Confusion Matrix:\\n\", confusion_matrix(y_test, y_pred))\n",
    "    print(\"Classification Report:\\n\", classification_report(y_test, y_pred))\n",
    "\n",
    "    # Visualización de la matriz de confusión\n",
    "    sns.heatmap(confusion_matrix(y_test, y_pred), annot=True, fmt=\"d\", cmap=\"Blues\")\n",
    "    plt.title(\"Confusion Matrix\")\n",
    "    plt.xlabel(\"Predicted\")\n",
    "    plt.ylabel(\"Actual\")\n",
    "    plt.show()\n",
    "\n",
    "   "
   ]
  },
  {
   "cell_type": "code",
   "execution_count": 2,
   "id": "b0a9decf",
   "metadata": {},
   "outputs": [
    {
     "name": "stdout",
     "output_type": "stream",
     "text": [
      "✅ Model de classificació desat com a modelo_clasificacion.pkl\n"
     ]
    }
   ],
   "source": [
    " import joblib\n",
    "\n",
    "# Guardar el model en fitxer .pkl\n",
    "joblib.dump(model, \"modelo_clasificacion.pkl\")\n",
    "print(\"✅ Model de classificació desat com a modelo_clasificacion.pkl\")"
   ]
  },
  {
   "cell_type": "code",
   "execution_count": 3,
   "id": "d1f53d8a",
   "metadata": {},
   "outputs": [
    {
     "name": "stdout",
     "output_type": "stream",
     "text": [
      "📉 MSE: 10.76\n"
     ]
    },
    {
     "data": {
      "text/plain": [
       "['modelo_regresion.pkl']"
      ]
     },
     "execution_count": 3,
     "metadata": {},
     "output_type": "execute_result"
    }
   ],
   "source": [
    "import pandas as pd\n",
    "from sklearn.model_selection import train_test_split\n",
    "from sklearn.linear_model import LinearRegression\n",
    "from sklearn.metrics import mean_squared_error\n",
    "import joblib\n",
    "\n",
    "# Cargar datos (ajusta la ruta a tu archivo)\n",
    "df = pd.read_csv(\"C:\\\\Users\\\\Haine\\\\OneDrive\\\\Escritorio\\\\Proyecto_2\\\\Data\\\\ranking_clientes.csv\")\n",
    "\n",
    "# Definir variables predictoras y objetivo\n",
    "X = df.drop(columns=[\"duration\"])\n",
    "y = df[\"duration\"]\n",
    "\n",
    "# Codificar variables categóricas con get_dummies\n",
    "X_encoded = pd.get_dummies(X)\n",
    "\n",
    "# Dividir en entrenamiento y prueba\n",
    "X_train, X_test, y_train, y_test = train_test_split(X_encoded, y, test_size=0.2, random_state=42)\n",
    "\n",
    "# Entrenar modelo\n",
    "modelo = LinearRegression()\n",
    "modelo.fit(X_train, y_train)\n",
    "\n",
    "# Evaluar\n",
    "y_pred = modelo.predict(X_test)\n",
    "mse = mean_squared_error(y_test, y_pred)\n",
    "print(f\"📉 MSE: {mse:.2f}\")\n",
    "\n",
    "# Guardar modelo y columnas\n",
    "modelo.feature_names_in_ = X_encoded.columns  # importante para usarlo luego\n",
    "joblib.dump(modelo, \"modelo_regresion.pkl\")\n"
   ]
  },
  {
   "cell_type": "code",
   "execution_count": 4,
   "id": "db6d8f0e",
   "metadata": {},
   "outputs": [
    {
     "name": "stdout",
     "output_type": "stream",
     "text": [
      "✅ Model de regressió desat com a modelo_regresion.pkl\n"
     ]
    }
   ],
   "source": [
    "import joblib\n",
    "# Guardar el model en fitxer .pkl\n",
    "joblib.dump(modelo, \"modelo_regresion.pkl\")\n",
    "print(\"✅ Model de regressió desat com a modelo_regresion.pkl\")\n"
   ]
  }
 ],
 "metadata": {
  "kernelspec": {
   "display_name": "base",
   "language": "python",
   "name": "python3"
  },
  "language_info": {
   "codemirror_mode": {
    "name": "ipython",
    "version": 3
   },
   "file_extension": ".py",
   "mimetype": "text/x-python",
   "name": "python",
   "nbconvert_exporter": "python",
   "pygments_lexer": "ipython3",
   "version": "3.12.9"
  }
 },
 "nbformat": 4,
 "nbformat_minor": 5
}
