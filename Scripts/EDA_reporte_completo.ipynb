{
 "cells": [
  {
   "cell_type": "markdown",
   "id": "0fb4c44a",
   "metadata": {},
   "source": [
    "# 🧠 Análisis Exploratorio de Datos (EDA)\n",
    "Este notebook contiene un análisis exploratorio del dataset bancario con visualizaciones y conclusiones."
   ]
  },
  {
   "cell_type": "code",
   "execution_count": null,
   "id": "ea8c744d",
   "metadata": {},
   "outputs": [],
   "source": [
    "import pandas as pd\n",
    "import seaborn as sns\n",
    "import matplotlib.pyplot as plt\n",
    "\n",
    "# Configuración\n",
    "sns.set(style='whitegrid')\n",
    "plt.rcParams['figure.figsize'] = (8, 5)\n",
    "\n",
    "# Cargar datos\n",
    "df = pd.read_csv('bank_cleaned.csv')\n",
    "df.head()"
   ]
  },
  {
   "cell_type": "code",
   "execution_count": null,
   "id": "38d123ad",
   "metadata": {},
   "outputs": [],
   "source": [
    "df.info()\n",
    "df.describe(include='all')"
   ]
  },
  {
   "cell_type": "code",
   "execution_count": null,
   "id": "ac5d7e4b",
   "metadata": {},
   "outputs": [],
   "source": [
    "sns.histplot(df['age'], kde=True)\n",
    "plt.title('Distribución de Edad')\n",
    "plt.show()"
   ]
  },
  {
   "cell_type": "code",
   "execution_count": null,
   "id": "842fbc3d",
   "metadata": {},
   "outputs": [],
   "source": [
    "sns.barplot(x='education', y='response_binary', data=df)\n",
    "plt.title('Tasa de Respuesta por Nivel Educativo')\n",
    "plt.xticks(rotation=45)\n",
    "plt.show()"
   ]
  },
  {
   "cell_type": "code",
   "execution_count": null,
   "id": "8677fd6d",
   "metadata": {},
   "outputs": [],
   "source": [
    "sns.boxplot(x='response_binary', y='age', data=df)\n",
    "plt.title('age vs response_binary (Boxplot)')\n",
    "plt.xlabel('Respuesta (0 = No, 1 = Sí)')\n",
    "plt.ylabel('age')\n",
    "plt.show()"
   ]
  },
  {
   "cell_type": "code",
   "execution_count": null,
   "id": "8def2210",
   "metadata": {},
   "outputs": [],
   "source": [
    "sns.boxplot(x='response_binary', y='balance', data=df)\n",
    "plt.title('balance vs response_binary (Boxplot)')\n",
    "plt.xlabel('Respuesta (0 = No, 1 = Sí)')\n",
    "plt.ylabel('balance')\n",
    "plt.show()"
   ]
  },
  {
   "cell_type": "code",
   "execution_count": null,
   "id": "ab763dce",
   "metadata": {},
   "outputs": [],
   "source": [
    "sns.boxplot(x='response_binary', y='duration', data=df)\n",
    "plt.title('duration vs response_binary (Boxplot)')\n",
    "plt.xlabel('Respuesta (0 = No, 1 = Sí)')\n",
    "plt.ylabel('duration')\n",
    "plt.show()"
   ]
  },
  {
   "cell_type": "code",
   "execution_count": null,
   "id": "481f0193",
   "metadata": {},
   "outputs": [],
   "source": [
    "sns.boxplot(x='response_binary', y='campaign', data=df)\n",
    "plt.title('campaign vs response_binary (Boxplot)')\n",
    "plt.xlabel('Respuesta (0 = No, 1 = Sí)')\n",
    "plt.ylabel('campaign')\n",
    "plt.show()"
   ]
  },
  {
   "cell_type": "markdown",
   "id": "61fae994",
   "metadata": {},
   "source": [
    "## ✅ Conclusiones\n",
    "- `duration` es la variable más predictiva del comportamiento de respuesta.\n",
    "- Algunos grupos como estudiantes y jubilados responden más frecuentemente.\n",
    "- El modelo de regresión logística puede mejorarse con estrategias de balanceo de clases.\n",
    "\n",
    "**Fin del análisis.**"
   ]
  }
 ],
 "metadata": {},
 "nbformat": 4,
 "nbformat_minor": 5
}
