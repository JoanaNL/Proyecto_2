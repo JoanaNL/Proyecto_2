{
 "cells": [
  {
   "cell_type": "code",
   "execution_count": 13,
   "id": "55fefe76",
   "metadata": {},
   "outputs": [
    {
     "ename": "ModuleNotFoundError",
     "evalue": "No module named 'streamlit'",
     "output_type": "error",
     "traceback": [
      "\u001b[1;31m---------------------------------------------------------------------------\u001b[0m",
      "\u001b[1;31mModuleNotFoundError\u001b[0m                       Traceback (most recent call last)",
      "Cell \u001b[1;32mIn[13], line 1\u001b[0m\n\u001b[1;32m----> 1\u001b[0m \u001b[38;5;28;01mimport\u001b[39;00m\u001b[38;5;250m \u001b[39m\u001b[38;5;21;01mstreamlit\u001b[39;00m\u001b[38;5;250m \u001b[39m\u001b[38;5;28;01mas\u001b[39;00m\u001b[38;5;250m \u001b[39m\u001b[38;5;21;01mst\u001b[39;00m\n\u001b[0;32m      2\u001b[0m \u001b[38;5;28;01mimport\u001b[39;00m\u001b[38;5;250m \u001b[39m\u001b[38;5;21;01mrequests\u001b[39;00m\n\u001b[0;32m      3\u001b[0m \u001b[38;5;28;01mfrom\u001b[39;00m\u001b[38;5;250m \u001b[39m\u001b[38;5;21;01mfastapi\u001b[39;00m\u001b[38;5;250m \u001b[39m\u001b[38;5;28;01mimport\u001b[39;00m FastAPI\n",
      "\u001b[1;31mModuleNotFoundError\u001b[0m: No module named 'streamlit'"
     ]
    }
   ],
   "source": [
    "import streamlit as st\n",
    "import requests\n",
    "from fastapi import FastAPI\n",
    "\n",
    "st.title(\"🔍 Predicció de resposta de client\")\n",
    "\n",
    "# Entrades de l'usuari\n",
    "age = st.number_input(\"Edat del client\", min_value=18, max_value=100, value=30)\n",
    "balance = st.number_input(\"Balanç bancari (€)\", min_value=0.0, value=1000.0)\n",
    "campaign = st.number_input(\"Nombre de trucades de campanya\", min_value=0, value=1)\n",
    "\n",
    "# Botó per fer la crida\n",
    "if st.button(\"Fer predicció\"):\n",
    "    url = \"http://localhost:8501/predecir\"  # Substitueix amb el teu URL\n",
    "    payload = {\n",
    "        \"age\": age,\n",
    "        \"balance\": balance,\n",
    "        \"campaign\": campaign,\n",
    "    }\n",
    "\n",
    "    try:\n",
    "        res = requests.post(url, json=payload)\n",
    "        res.raise_for_status()\n",
    "        data = res.json()\n",
    "        st.success(f\"📈 Probabilitat estimada: {data['probabilidad_si']:.2%}\")\n",
    "    except Exception as e:\n",
    "        st.error(f\"❌ Error en la crida a l'API: {e}\")\n"
   ]
  }
 ],
 "metadata": {
  "kernelspec": {
   "display_name": "Proyecto_2",
   "language": "python",
   "name": "python3"
  },
  "language_info": {
   "codemirror_mode": {
    "name": "ipython",
    "version": 3
   },
   "file_extension": ".py",
   "mimetype": "text/x-python",
   "name": "python",
   "nbconvert_exporter": "python",
   "pygments_lexer": "ipython3",
   "version": "3.13.2"
  }
 },
 "nbformat": 4,
 "nbformat_minor": 5
}
