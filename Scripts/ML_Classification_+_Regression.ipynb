{
 "cells": [
  {
   "cell_type": "code",
   "execution_count": 19,
   "id": "647fdbc9",
   "metadata": {},
   "outputs": [
    {
     "data": {
      "text/plain": [
       "(40841, 18)"
      ]
     },
     "execution_count": 19,
     "metadata": {},
     "output_type": "execute_result"
    }
   ],
   "source": [
    "import pandas as pd\n",
    "import numpy as np\n",
    "from pandas import read_csv\n",
    "import matplotlib.pyplot as plt\n",
    "import warnings\n",
    "warnings.filterwarnings('ignore')\n",
    "import os\n",
    "\n",
    "# Ruta del archivo\n",
    "df = pd.read_csv(\"C:\\\\Users\\\\Haine\\\\OneDrive\\\\Escritorio\\\\Proyecto_2\\\\Data\\\\bank_cleaned.csv\")\n",
    "df.shape"
   ]
  },
  {
   "cell_type": "code",
   "execution_count": 20,
   "id": "113ac67f",
   "metadata": {},
   "outputs": [
    {
     "data": {
      "text/plain": [
       "'c:\\\\Users\\\\Haine\\\\OneDrive\\\\Escritorio\\\\Proyecto_2\\\\Scripts'"
      ]
     },
     "execution_count": 20,
     "metadata": {},
     "output_type": "execute_result"
    }
   ],
   "source": [
    "os.getcwd()"
   ]
  },
  {
   "cell_type": "code",
   "execution_count": 21,
   "id": "c0176f2f",
   "metadata": {},
   "outputs": [
    {
     "name": "stdout",
     "output_type": "stream",
     "text": [
      "Index(['Unnamed: 0', 'age', 'job', 'marital', 'education', 'default',\n",
      "       'balance', 'housing', 'loan', 'day', 'month', 'duration', 'campaign',\n",
      "       'pdays', 'previous', 'poutcome', 'response', 'response_binary'],\n",
      "      dtype='object')\n"
     ]
    }
   ],
   "source": [
    "print(df.columns)"
   ]
  },
  {
   "cell_type": "code",
   "execution_count": 22,
   "id": "c9dc7034",
   "metadata": {},
   "outputs": [
    {
     "name": "stdout",
     "output_type": "stream",
     "text": [
      "   marital_married  marital_single\n",
      "0             True           False\n",
      "1            False            True\n",
      "2             True           False\n",
      "3             True           False\n",
      "4            False            True\n"
     ]
    }
   ],
   "source": [
    "# Crear una copia para no modificar el original\n",
    "df_copy = df.copy()\n",
    "\n",
    "# Transformar 'marital' en variables dummy\n",
    "df_copy = pd.get_dummies(df_copy, columns=['marital'], drop_first=True)\n",
    "\n",
    "# Verificar que la transformación funcionó\n",
    "print(df_copy.filter(like='marital').head())\n"
   ]
  },
  {
   "cell_type": "code",
   "execution_count": 23,
   "id": "dc7e693c",
   "metadata": {},
   "outputs": [
    {
     "name": "stdout",
     "output_type": "stream",
     "text": [
      "   housing\n",
      "0        1\n",
      "1        1\n",
      "2        1\n",
      "3        1\n",
      "4        1\n",
      "  loan\n",
      "0   no\n",
      "1   no\n",
      "2  yes\n",
      "3   no\n",
      "4  yes\n"
     ]
    }
   ],
   "source": [
    "df_model = df.copy()\n",
    "\n",
    "binary_cols = ['housing', 'loan']\n",
    "for col in binary_cols:\n",
    "    if col in df_model.columns:\n",
    "        df_model[col] = df_model[col].map({'yes': 1, 'no': 0})\n",
    "\n",
    "print(df_model.filter(like='housing').head())\n",
    "print(df_copy.filter(like='loan').head())"
   ]
  },
  {
   "cell_type": "code",
   "execution_count": 24,
   "id": "f0db9c65",
   "metadata": {},
   "outputs": [
    {
     "name": "stdout",
     "output_type": "stream",
     "text": [
      "   education\n",
      "0   tertiary\n",
      "1  secondary\n",
      "2  secondary\n",
      "3   tertiary\n",
      "4   tertiary\n",
      "   marital_married  marital_single\n",
      "0             True           False\n",
      "1            False            True\n",
      "2             True           False\n",
      "3             True           False\n",
      "4            False            True\n"
     ]
    }
   ],
   "source": [
    "binary_cols = ['education', 'marital']\n",
    "for col in binary_cols:\n",
    "    if col in df_model.columns:\n",
    "        df_model[col] = df_model[col].map({'yes': 1, 'no': 0})\n",
    "\n",
    "print(df_copy.filter(like='education').head())\n",
    "print(df_copy.filter(like='marital').head())"
   ]
  },
  {
   "cell_type": "code",
   "execution_count": 25,
   "id": "50c4c913",
   "metadata": {},
   "outputs": [
    {
     "name": "stdout",
     "output_type": "stream",
     "text": [
      "['job', 'education', 'default', 'housing', 'loan', 'month', 'poutcome', 'response']\n"
     ]
    }
   ],
   "source": [
    "print(df_copy.select_dtypes(include='object').columns.tolist())\n"
   ]
  },
  {
   "cell_type": "code",
   "execution_count": 26,
   "id": "84631137",
   "metadata": {},
   "outputs": [
    {
     "name": "stdout",
     "output_type": "stream",
     "text": [
      "Index(['Unnamed: 0', 'age', 'job', 'marital', 'education', 'default',\n",
      "       'balance', 'housing', 'loan', 'day', 'month', 'duration', 'campaign',\n",
      "       'pdays', 'previous', 'poutcome', 'response', 'response_binary'],\n",
      "      dtype='object')\n"
     ]
    }
   ],
   "source": [
    "print(df.columns)"
   ]
  },
  {
   "cell_type": "code",
   "execution_count": 27,
   "id": "68b6e802",
   "metadata": {},
   "outputs": [],
   "source": [
    "df_model.head()\n",
    "df_model.head()\n",
    "df_model.to_csv(\"C:\\\\Users\\\\Haine\\\\OneDrive\\\\Escritorio\\\\Proyecto_2\\\\Data\\\\bank_cleaned_model.csv\", index=False)"
   ]
  },
  {
   "cell_type": "code",
   "execution_count": 28,
   "id": "c689a95d",
   "metadata": {},
   "outputs": [
    {
     "data": {
      "application/vnd.microsoft.datawrangler.viewer.v0+json": {
       "columns": [
        {
         "name": "index",
         "rawType": "object",
         "type": "string"
        },
        {
         "name": "Unnamed: 0",
         "rawType": "float64",
         "type": "float"
        },
        {
         "name": "age",
         "rawType": "float64",
         "type": "float"
        },
        {
         "name": "balance",
         "rawType": "float64",
         "type": "float"
        },
        {
         "name": "day",
         "rawType": "float64",
         "type": "float"
        },
        {
         "name": "duration",
         "rawType": "float64",
         "type": "float"
        },
        {
         "name": "campaign",
         "rawType": "float64",
         "type": "float"
        },
        {
         "name": "pdays",
         "rawType": "float64",
         "type": "float"
        },
        {
         "name": "previous",
         "rawType": "float64",
         "type": "float"
        },
        {
         "name": "response_binary",
         "rawType": "float64",
         "type": "float"
        }
       ],
       "ref": "e5d5589a-1280-4b54-b2a1-2c2a6f65288c",
       "rows": [
        [
         "count",
         "40841.0",
         "40841.0",
         "40841.0",
         "40841.0",
         "40841.0",
         "40841.0",
         "40841.0",
         "40841.0",
         "40841.0"
        ],
        [
         "mean",
         "22006.47765725619",
         "40.79067603633604",
         "1073.9818074973678",
         "15.863666413652947",
         "4.308949340123895",
         "2.7741485272152984",
         "32.248304399990204",
         "0.43679145956269433",
         "0.11358683675718029"
        ],
        [
         "std",
         "12919.79765072191",
         "10.47547330087958",
         "1712.5561861103558",
         "8.313608397586197",
         "4.305823262976819",
         "3.1041769355158113",
         "90.73840181955882",
         "1.572342036500501",
         "0.3173126732767794"
        ],
        [
         "min",
         "0.0",
         "18.0",
         "-6847.0",
         "1.0",
         "0.1",
         "1.0",
         "-1.0",
         "0.0",
         "0.0"
        ],
        [
         "25%",
         "10888.0",
         "33.0",
         "64.0",
         "8.0",
         "1.73",
         "1.0",
         "-1.0",
         "0.0",
         "0.0"
        ],
        [
         "50%",
         "21652.0",
         "39.0",
         "421.0",
         "16.0",
         "3.0",
         "2.0",
         "-1.0",
         "0.0",
         "0.0"
        ],
        [
         "75%",
         "33102.0",
         "48.0",
         "1333.0",
         "21.0",
         "5.3",
         "3.0",
         "-1.0",
         "0.0",
         "0.0"
        ],
        [
         "max",
         "45209.0",
         "95.0",
         "10443.0",
         "31.0",
         "81.97",
         "58.0",
         "871.0",
         "55.0",
         "1.0"
        ]
       ],
       "shape": {
        "columns": 9,
        "rows": 8
       }
      },
      "text/html": [
       "<div>\n",
       "<style scoped>\n",
       "    .dataframe tbody tr th:only-of-type {\n",
       "        vertical-align: middle;\n",
       "    }\n",
       "\n",
       "    .dataframe tbody tr th {\n",
       "        vertical-align: top;\n",
       "    }\n",
       "\n",
       "    .dataframe thead th {\n",
       "        text-align: right;\n",
       "    }\n",
       "</style>\n",
       "<table border=\"1\" class=\"dataframe\">\n",
       "  <thead>\n",
       "    <tr style=\"text-align: right;\">\n",
       "      <th></th>\n",
       "      <th>Unnamed: 0</th>\n",
       "      <th>age</th>\n",
       "      <th>balance</th>\n",
       "      <th>day</th>\n",
       "      <th>duration</th>\n",
       "      <th>campaign</th>\n",
       "      <th>pdays</th>\n",
       "      <th>previous</th>\n",
       "      <th>response_binary</th>\n",
       "    </tr>\n",
       "  </thead>\n",
       "  <tbody>\n",
       "    <tr>\n",
       "      <th>count</th>\n",
       "      <td>40841.000000</td>\n",
       "      <td>40841.000000</td>\n",
       "      <td>40841.000000</td>\n",
       "      <td>40841.000000</td>\n",
       "      <td>40841.000000</td>\n",
       "      <td>40841.000000</td>\n",
       "      <td>40841.000000</td>\n",
       "      <td>40841.000000</td>\n",
       "      <td>40841.000000</td>\n",
       "    </tr>\n",
       "    <tr>\n",
       "      <th>mean</th>\n",
       "      <td>22006.477657</td>\n",
       "      <td>40.790676</td>\n",
       "      <td>1073.981807</td>\n",
       "      <td>15.863666</td>\n",
       "      <td>4.308949</td>\n",
       "      <td>2.774149</td>\n",
       "      <td>32.248304</td>\n",
       "      <td>0.436791</td>\n",
       "      <td>0.113587</td>\n",
       "    </tr>\n",
       "    <tr>\n",
       "      <th>std</th>\n",
       "      <td>12919.797651</td>\n",
       "      <td>10.475473</td>\n",
       "      <td>1712.556186</td>\n",
       "      <td>8.313608</td>\n",
       "      <td>4.305823</td>\n",
       "      <td>3.104177</td>\n",
       "      <td>90.738402</td>\n",
       "      <td>1.572342</td>\n",
       "      <td>0.317313</td>\n",
       "    </tr>\n",
       "    <tr>\n",
       "      <th>min</th>\n",
       "      <td>0.000000</td>\n",
       "      <td>18.000000</td>\n",
       "      <td>-6847.000000</td>\n",
       "      <td>1.000000</td>\n",
       "      <td>0.100000</td>\n",
       "      <td>1.000000</td>\n",
       "      <td>-1.000000</td>\n",
       "      <td>0.000000</td>\n",
       "      <td>0.000000</td>\n",
       "    </tr>\n",
       "    <tr>\n",
       "      <th>25%</th>\n",
       "      <td>10888.000000</td>\n",
       "      <td>33.000000</td>\n",
       "      <td>64.000000</td>\n",
       "      <td>8.000000</td>\n",
       "      <td>1.730000</td>\n",
       "      <td>1.000000</td>\n",
       "      <td>-1.000000</td>\n",
       "      <td>0.000000</td>\n",
       "      <td>0.000000</td>\n",
       "    </tr>\n",
       "    <tr>\n",
       "      <th>50%</th>\n",
       "      <td>21652.000000</td>\n",
       "      <td>39.000000</td>\n",
       "      <td>421.000000</td>\n",
       "      <td>16.000000</td>\n",
       "      <td>3.000000</td>\n",
       "      <td>2.000000</td>\n",
       "      <td>-1.000000</td>\n",
       "      <td>0.000000</td>\n",
       "      <td>0.000000</td>\n",
       "    </tr>\n",
       "    <tr>\n",
       "      <th>75%</th>\n",
       "      <td>33102.000000</td>\n",
       "      <td>48.000000</td>\n",
       "      <td>1333.000000</td>\n",
       "      <td>21.000000</td>\n",
       "      <td>5.300000</td>\n",
       "      <td>3.000000</td>\n",
       "      <td>-1.000000</td>\n",
       "      <td>0.000000</td>\n",
       "      <td>0.000000</td>\n",
       "    </tr>\n",
       "    <tr>\n",
       "      <th>max</th>\n",
       "      <td>45209.000000</td>\n",
       "      <td>95.000000</td>\n",
       "      <td>10443.000000</td>\n",
       "      <td>31.000000</td>\n",
       "      <td>81.970000</td>\n",
       "      <td>58.000000</td>\n",
       "      <td>871.000000</td>\n",
       "      <td>55.000000</td>\n",
       "      <td>1.000000</td>\n",
       "    </tr>\n",
       "  </tbody>\n",
       "</table>\n",
       "</div>"
      ],
      "text/plain": [
       "         Unnamed: 0           age       balance           day      duration  \\\n",
       "count  40841.000000  40841.000000  40841.000000  40841.000000  40841.000000   \n",
       "mean   22006.477657     40.790676   1073.981807     15.863666      4.308949   \n",
       "std    12919.797651     10.475473   1712.556186      8.313608      4.305823   \n",
       "min        0.000000     18.000000  -6847.000000      1.000000      0.100000   \n",
       "25%    10888.000000     33.000000     64.000000      8.000000      1.730000   \n",
       "50%    21652.000000     39.000000    421.000000     16.000000      3.000000   \n",
       "75%    33102.000000     48.000000   1333.000000     21.000000      5.300000   \n",
       "max    45209.000000     95.000000  10443.000000     31.000000     81.970000   \n",
       "\n",
       "           campaign         pdays      previous  response_binary  \n",
       "count  40841.000000  40841.000000  40841.000000     40841.000000  \n",
       "mean       2.774149     32.248304      0.436791         0.113587  \n",
       "std        3.104177     90.738402      1.572342         0.317313  \n",
       "min        1.000000     -1.000000      0.000000         0.000000  \n",
       "25%        1.000000     -1.000000      0.000000         0.000000  \n",
       "50%        2.000000     -1.000000      0.000000         0.000000  \n",
       "75%        3.000000     -1.000000      0.000000         0.000000  \n",
       "max       58.000000    871.000000     55.000000         1.000000  "
      ]
     },
     "execution_count": 28,
     "metadata": {},
     "output_type": "execute_result"
    }
   ],
   "source": [
    "df.describe()"
   ]
  },
  {
   "cell_type": "code",
   "execution_count": 29,
   "id": "42898109",
   "metadata": {},
   "outputs": [],
   "source": [
    "from sklearn.model_selection import train_test_split\n",
    "df = pd.read_csv(\"C:\\\\Users\\\\Haine\\\\OneDrive\\\\Escritorio\\\\Proyecto_2\\\\Data\\\\bank_cleaned.csv\")\n"
   ]
  },
  {
   "cell_type": "code",
   "execution_count": 30,
   "id": "43f77371",
   "metadata": {},
   "outputs": [
    {
     "name": "stdout",
     "output_type": "stream",
     "text": [
      "Categóricas detectadas: ['job', 'marital', 'education', 'default', 'housing', 'loan', 'month', 'poutcome', 'response']\n"
     ]
    }
   ],
   "source": [
    "df_model = df.copy()\n",
    "\n",
    "# Detectar columnas tipo \"object\" (texto)\n",
    "cat_cols = df_model.select_dtypes(include=['object']).columns.tolist()\n",
    "print(\"Categóricas detectadas:\", cat_cols)\n"
   ]
  },
  {
   "cell_type": "code",
   "execution_count": 31,
   "id": "042cc28d",
   "metadata": {},
   "outputs": [
    {
     "name": "stdout",
     "output_type": "stream",
     "text": [
      "Unnamed: 0           int64\n",
      "age                  int64\n",
      "job                 object\n",
      "marital             object\n",
      "education           object\n",
      "default             object\n",
      "balance              int64\n",
      "housing             object\n",
      "loan                object\n",
      "day                  int64\n",
      "month               object\n",
      "duration           float64\n",
      "campaign             int64\n",
      "pdays                int64\n",
      "previous             int64\n",
      "poutcome            object\n",
      "response            object\n",
      "response_binary      int64\n",
      "dtype: object\n"
     ]
    }
   ],
   "source": [
    "print(df_model.dtypes)"
   ]
  },
  {
   "cell_type": "code",
   "execution_count": 32,
   "id": "6d3c8ffb",
   "metadata": {},
   "outputs": [
    {
     "name": "stdout",
     "output_type": "stream",
     "text": [
      "Columnas categóricas detectadas: ['job', 'marital', 'education', 'default', 'housing', 'loan', 'month', 'poutcome', 'response']\n",
      "\n",
      "Columnas no numéricas después de codificación: []\n",
      "\n",
      "🔍 Clasificación (Regresión Logística):\n",
      "Accuracy: 0.9985310319500551\n",
      "Confusion Matrix:\n",
      " [[7158    8]\n",
      " [   4  999]]\n",
      "Classification Report:\n",
      "               precision    recall  f1-score   support\n",
      "\n",
      "           0       1.00      1.00      1.00      7166\n",
      "           1       0.99      1.00      0.99      1003\n",
      "\n",
      "    accuracy                           1.00      8169\n",
      "   macro avg       1.00      1.00      1.00      8169\n",
      "weighted avg       1.00      1.00      1.00      8169\n",
      "\n"
     ]
    },
    {
     "data": {
      "image/png": "[encoded data removed]",
      "text/plain": [
       "<Figure size 640x480 with 2 Axes>"
      ]
     },
     "metadata": {},
     "output_type": "display_data"
    },
    {
     "name": "stdout",
     "output_type": "stream",
     "text": [
      "\n",
      "🔍 Regresión Lineal:\n",
      "Error cuadrático medio (MSE): 14.754885164649586\n"
     ]
    }
   ],
   "source": [
    "import pandas as pd\n",
    "import numpy as np\n",
    "from sklearn.model_selection import train_test_split\n",
    "from sklearn.linear_model import LogisticRegression, LinearRegression\n",
    "from sklearn.metrics import classification_report, confusion_matrix, accuracy_score, mean_squared_error\n",
    "import matplotlib.pyplot as plt\n",
    "import seaborn as sns\n",
    "\n",
    "# =========================\n",
    "# 1. Cargar el archivo CSV\n",
    "# =========================\n",
    "df = pd.read_csv(\"C:\\\\Users\\\\Haine\\\\OneDrive\\\\Escritorio\\\\Proyecto_2\\\\Data\\\\bank_cleaned.csv\")\n",
    "\n",
    "# =========================\n",
    "# 2. Preparar columnas categóricas\n",
    "# =========================\n",
    "# Detectar columnas categóricas (texto)\n",
    "cat_cols = df.select_dtypes(include=['object']).columns.tolist()\n",
    "\n",
    "# Mostrar columnas categóricas encontradas\n",
    "print(\"Columnas categóricas detectadas:\", cat_cols)\n",
    "\n",
    "# Convertir a variables dummy (0/1), eliminar primera categoría para evitar colinealidad\n",
    "df = pd.get_dummies(df, columns=cat_cols, drop_first=True)\n",
    "\n",
    "# Verificar que no quedan columnas categóricas\n",
    "print(\"\\nColumnas no numéricas después de codificación:\", df.select_dtypes(include='object').columns.tolist())\n",
    "\n",
    "# =========================\n",
    "# 3. Clasificación: Predecir 'response_binary'\n",
    "# =========================\n",
    "if 'response_binary' in df.columns:\n",
    "    X = df.drop(columns=['response_binary'])\n",
    "    y = df['response_binary']\n",
    "\n",
    "    # División entrenamiento / prueba\n",
    "    X_train, X_test, y_train, y_test = train_test_split(X, y, test_size=0.2, random_state=42)\n",
    "\n",
    "    # Entrenar modelo\n",
    "    model = LogisticRegression(max_iter=1000)\n",
    "    model.fit(X_train, y_train)\n",
    "\n",
    "    # Predicciones\n",
    "    y_pred = model.predict(X_test)\n",
    "\n",
    "    # Evaluación\n",
    "    print(\"\\n🔍 Clasificación (Regresión Logística):\")\n",
    "    print(\"Accuracy:\", accuracy_score(y_test, y_pred))\n",
    "    print(\"Confusion Matrix:\\n\", confusion_matrix(y_test, y_pred))\n",
    "    print(\"Classification Report:\\n\", classification_report(y_test, y_pred))\n",
    "\n",
    "    # Visualización de la matriz de confusión\n",
    "    sns.heatmap(confusion_matrix(y_test, y_pred), annot=True, fmt=\"d\", cmap=\"Blues\")\n",
    "    plt.title(\"Confusion Matrix\")\n",
    "    plt.xlabel(\"Predicted\")\n",
    "    plt.ylabel(\"Actual\")\n",
    "    plt.show()\n",
    "\n",
    "else:\n",
    "    print(\"❌ 'response_binary' no está en el archivo. No se puede entrenar modelo de clasificación.\")\n",
    "\n",
    "# =========================\n",
    "# 4. Regresión: Predecir 'duration'\n",
    "# =========================\n",
    "if 'duration' in df.columns:\n",
    "    X_reg = df.drop(columns=['duration'])\n",
    "    y_reg = df['duration']\n",
    "\n",
    "    X_train_r, X_test_r, y_train_r, y_test_r = train_test_split(X_reg, y_reg, test_size=0.2, random_state=42)\n",
    "\n",
    "    reg_model = LinearRegression()\n",
    "    reg_model.fit(X_train_r, y_train_r)\n",
    "\n",
    "    y_pred_r = reg_model.predict(X_test_r)\n",
    "\n",
    "    print(\"\\n🔍 Regresión Lineal:\")\n",
    "    print(\"Error cuadrático medio (MSE):\", mean_squared_error(y_test_r, y_pred_r))\n",
    "\n",
    "else:\n",
    "    print(\"ℹ️ 'duration' no está en el archivo. No se entrena modelo de regresión.\")\n"
   ]
  },
  {
   "cell_type": "code",
   "execution_count": 33,
   "id": "8760988a",
   "metadata": {},
   "outputs": [
    {
     "data": {
      "application/vnd.microsoft.datawrangler.viewer.v0+json": {
       "columns": [
        {
         "name": "response_binary",
         "rawType": "int64",
         "type": "integer"
        },
        {
         "name": "count",
         "rawType": "int64",
         "type": "integer"
        }
       ],
       "ref": "c9c95135-699c-4dc7-99ac-ebffacc6f5a8",
       "rows": [
        [
         "0",
         "7166"
        ],
        [
         "1",
         "1003"
        ]
       ],
       "shape": {
        "columns": 1,
        "rows": 2
       }
      },
      "text/plain": [
       "response_binary\n",
       "0    7166\n",
       "1    1003\n",
       "Name: count, dtype: int64"
      ]
     },
     "execution_count": 33,
     "metadata": {},
     "output_type": "execute_result"
    }
   ],
   "source": [
    "y_test.value_counts()"
   ]
  },
  {
   "cell_type": "markdown",
   "id": "2ec7cf25",
   "metadata": {},
   "source": [
    "🧩 Código completo para regresión logística y predicción"
   ]
  },
  {
   "cell_type": "code",
   "execution_count": 34,
   "id": "6f3fbad7",
   "metadata": {},
   "outputs": [
    {
     "name": "stdout",
     "output_type": "stream",
     "text": [
      "🟢 Clientes con alta probabilidad de aceptar: 4532\n",
      "       probabilidad_si\n",
      "37955              1.0\n",
      "38150              1.0\n",
      "39843              1.0\n",
      "38728              1.0\n",
      "39875              1.0\n",
      "40508              1.0\n",
      "38887              1.0\n",
      "37936              1.0\n",
      "39526              1.0\n",
      "38788              1.0\n"
     ]
    }
   ],
   "source": [
    "import pandas as pd\n",
    "from sklearn.model_selection import train_test_split\n",
    "from sklearn.linear_model import LogisticRegression\n",
    "\n",
    "# 1. Cargar datos\n",
    "df = pd.read_csv(\"C:\\\\Users\\\\Haine\\\\OneDrive\\\\Escritorio\\\\Proyecto_2\\\\Data\\\\bank_cleaned.csv\")\n",
    "\n",
    "# 2. Codificar variables categóricas\n",
    "df_model = pd.get_dummies(df, drop_first=True)\n",
    "\n",
    "# 3. Separar X (features) e y (target)\n",
    "X = df_model.drop(columns=['response_binary'])\n",
    "y = df_model['response_binary']\n",
    "\n",
    "# 4. Dividir en entrenamiento y prueba\n",
    "X_train, X_test, y_train, y_test = train_test_split(X, y, test_size=0.2, random_state=42)\n",
    "\n",
    "# 5. Entrenar modelo de regresión logística\n",
    "model = LogisticRegression(max_iter=1000)\n",
    "model.fit(X_train, y_train)\n",
    "\n",
    "# 6. Calcular probabilidad de que un cliente diga \"sí\"\n",
    "df_model[\"probabilidad_si\"] = model.predict_proba(X)[:, 1]\n",
    "\n",
    "# 7. Mostrar clientes con alta probabilidad de respuesta\n",
    "clientes_probables = df_model[df_model[\"probabilidad_si\"] >= 0.7]\n",
    "print(f\"🟢 Clientes con alta probabilidad de aceptar: {len(clientes_probables)}\")\n",
    "print(clientes_probables[[\"probabilidad_si\"]].sort_values(by=\"probabilidad_si\", ascending=False).head(10))\n"
   ]
  },
  {
   "cell_type": "markdown",
   "id": "3678dddb",
   "metadata": {},
   "source": [
    "✅ 1. Análisis por ocupación (job) y educación (education)\n",
    "Solo para los clientes con alta probabilidad de aceptar (probabilidad_si >= 0.7):"
   ]
  },
  {
   "cell_type": "code",
   "execution_count": 35,
   "id": "29e2bb72",
   "metadata": {},
   "outputs": [
    {
     "data": {
      "image/png": "[encoded data removed]",
      "text/plain": [
       "<Figure size 1200x600 with 1 Axes>"
      ]
     },
     "metadata": {},
     "output_type": "display_data"
    },
    {
     "data": {
      "image/png": "[encoded data removed]",
      "text/plain": [
       "<Figure size 1000x500 with 1 Axes>"
      ]
     },
     "metadata": {},
     "output_type": "display_data"
    }
   ],
   "source": [
    "import seaborn as sns\n",
    "import matplotlib.pyplot as plt\n",
    "\n",
    "# Añadir la probabilidad al DataFrame original\n",
    "df[\"probabilidad_si\"] = df_model[\"probabilidad_si\"]\n",
    "\n",
    "# Filtrar clientes con probabilidad alta (≥ 70%)\n",
    "clientes_probables = df[df[\"probabilidad_si\"] >= 0.7]\n",
    "\n",
    "# 1. Distribución por tipo de trabajo\n",
    "plt.figure(figsize=(12, 6))\n",
    "sns.countplot(data=clientes_probables, x=\"job\", order=clientes_probables[\"job\"].value_counts().index)\n",
    "plt.title(\"Clientes con alta probabilidad de aceptar (≥ 70%) según tipo de trabajo\")\n",
    "plt.ylabel(\"Cantidad\")\n",
    "plt.xticks(rotation=45)\n",
    "plt.tight_layout()\n",
    "plt.show()\n",
    "\n",
    "# 2. Distribución por nivel educativo\n",
    "plt.figure(figsize=(10, 5))\n",
    "sns.countplot(data=clientes_probables, x=\"education\", order=clientes_probables[\"education\"].value_counts().index)\n",
    "plt.title(\"Clientes con alta probabilidad de aceptar (≥ 70%) según nivel educativo\")\n",
    "plt.ylabel(\"Cantidad\")\n",
    "plt.xticks(rotation=45)\n",
    "plt.tight_layout()\n",
    "plt.show()\n"
   ]
  },
  {
   "cell_type": "markdown",
   "id": "c7b5bdab",
   "metadata": {},
   "source": [
    "🧑‍💼 Distribución por tipo de trabajo\n",
    "Se observa que los clientes más propensos a aceptar ofertas son comúnmente:\n",
    "- Administrativos (admin.)\n",
    "- Técnicos\n",
    "- Gestores (management)\n",
    "\n",
    "Algunos trabajos como student y unemployed tienen menor presencia entre los de alta probabilidad."
   ]
  },
  {
   "cell_type": "markdown",
   "id": "76f52615",
   "metadata": {},
   "source": [
    "🎓 Distribución por nivel educativo\n",
    "El mayor grupo de clientes con alta probabilidad de respuesta tiene educación terciaria (universitaria).\n",
    "\n",
    "Le siguen los niveles secundario y primario, aunque en menor proporción."
   ]
  },
  {
   "cell_type": "markdown",
   "id": "dc27ca1c",
   "metadata": {},
   "source": [
    "Esto indica que:\n",
    "\n",
    "La ocupación y el nivel educativo son factores importantes para el modelo.\n",
    "\n",
    "Puedes usar esta información para segmentar campañas: por ejemplo, apuntar a administrativos con educación terciaria y saldo alto."
   ]
  },
  {
   "cell_type": "markdown",
   "id": "3d9364f9",
   "metadata": {},
   "source": [
    "✅ 2. Comparación con clientes que dijeron \"no\""
   ]
  },
  {
   "cell_type": "code",
   "execution_count": 36,
   "id": "62f0b9cb",
   "metadata": {},
   "outputs": [
    {
     "data": {
      "image/png": "[encoded data removed]",
      "text/plain": [
       "<Figure size 1200x600 with 1 Axes>"
      ]
     },
     "metadata": {},
     "output_type": "display_data"
    },
    {
     "data": {
      "image/png": "[encoded data removed]",
      "text/plain": [
       "<Figure size 1000x500 with 1 Axes>"
      ]
     },
     "metadata": {},
     "output_type": "display_data"
    }
   ],
   "source": [
    "# 3. Comparar aceptaron (\"yes\") vs no aceptaron (\"no\") por trabajo\n",
    "plt.figure(figsize=(12, 6))\n",
    "sns.countplot(data=df, x=\"job\", hue=\"response\", order=df[\"job\"].value_counts().index)\n",
    "plt.title(\"Comparación de aceptación por tipo de trabajo\")\n",
    "plt.ylabel(\"Cantidad\")\n",
    "plt.xticks(rotation=45)\n",
    "plt.tight_layout()\n",
    "plt.show()\n",
    "\n",
    "# 4. Comparar por nivel educativo\n",
    "plt.figure(figsize=(10, 5))\n",
    "sns.countplot(data=df, x=\"education\", hue=\"response\", order=df[\"education\"].value_counts().index)\n",
    "plt.title(\"Comparación de aceptación por nivel educativo\")\n",
    "plt.ylabel(\"Cantidad\")\n",
    "plt.xticks(rotation=45)\n",
    "plt.tight_layout()\n",
    "plt.show()\n"
   ]
  },
  {
   "cell_type": "markdown",
   "id": "d18f02e2",
   "metadata": {},
   "source": [
    "🧠 ¿Qué muestra este análisis comparativo?\n",
    "En qué ocupaciones o niveles educativos hay más clientes que aceptan (yes) frente a los que no (no).\n",
    "\n",
    "Te ayuda a detectar segmentos con alta conversión (porcentaje de “sí”) y orientar mejor las campañas."
   ]
  },
  {
   "cell_type": "code",
   "execution_count": 37,
   "id": "5866aa00",
   "metadata": {},
   "outputs": [],
   "source": [
    "import numpy as np\n",
    "import pandas as pd\n",
    "import matplotlib.pyplot as plt\n",
    "import seaborn as sns\n",
    "\n",
    "df = pd.read_csv(\"C:\\\\Users\\\\Haine\\\\OneDrive\\\\Escritorio\\\\Proyecto_2\\\\Data\\\\bank_cleaned.csv\")\n",
    "df\n",
    "# Obtener nombres de las columnas (features)\n",
    "feature_names = X.columns\n",
    "\n",
    "# Extraer coeficientes del modelo entrenado\n",
    "coeficientes = model.coef_[0]\n",
    "\n",
    "# Crear un DataFrame con variable + coeficiente\n",
    "importancia = pd.DataFrame({\n",
    "    'Variable': feature_names,\n",
    "    'Coeficiente': coeficientes\n",
    "})\n",
    "\n",
    "# Calcular importancia absoluta\n",
    "importancia['Importancia_absoluta'] = np.abs(importancia['Coeficiente'])\n",
    "\n",
    "# Ordenar por importancia descendente\n",
    "importancia = importancia.sort_values(by='Importancia_absoluta', ascending=False)\n"
   ]
  },
  {
   "cell_type": "code",
   "execution_count": 38,
   "id": "bea2b7ec",
   "metadata": {},
   "outputs": [
    {
     "data": {
      "image/png": "[encoded data removed]",
      "text/plain": [
       "<Figure size 800x500 with 1 Axes>"
      ]
     },
     "metadata": {},
     "output_type": "display_data"
    }
   ],
   "source": [
    "# Variables numéricas más comunes en campañas bancarias\n",
    "variables_clave = ['age', 'balance', 'duration', 'campaign', 'pdays', 'previous']\n",
    "\n",
    "# Filtrar esas variables del DataFrame de importancia\n",
    "importancia_clave = importancia[importancia['Variable'].isin(variables_clave)].copy()\n",
    "\n",
    "# Graficar con los signos reales del coeficiente\n",
    "plt.figure(figsize=(8, 5))\n",
    "sns.barplot(data=importancia_clave, x='Coeficiente', y='Variable', palette='coolwarm')\n",
    "plt.axvline(0, color='gray', linestyle='--')\n",
    "plt.title(\"Influencia de variables numéricas clave en la decisión\")\n",
    "plt.xlabel(\"Coeficiente (positivo: favorece 'sí', negativo: favorece 'no')\")\n",
    "plt.ylabel(\"Variable\")\n",
    "plt.tight_layout()\n",
    "plt.show()\n"
   ]
  },
  {
   "cell_type": "markdown",
   "id": "02629240",
   "metadata": {},
   "source": [
    "🧠 ¿Qué hace este análisis?\n",
    "Muestra qué variables numéricas influyen más en la probabilidad de que un cliente contrate un depósito.\n",
    "\n",
    "Mantiene el signo original:\n",
    "\n",
    "🔴 Negativo → reduce probabilidad\n",
    "\n",
    "🟢 Positivo → aumenta probabilidad"
   ]
  },
  {
   "cell_type": "code",
   "execution_count": 39,
   "id": "e8d2bc42",
   "metadata": {},
   "outputs": [
    {
     "name": "stdout",
     "output_type": "stream",
     "text": [
      "['Unnamed: 0', 'age', 'job', 'marital', 'education', 'default', 'balance', 'housing', 'loan', 'day', 'month', 'duration', 'campaign', 'pdays', 'previous', 'poutcome', 'response', 'response_binary']\n"
     ]
    }
   ],
   "source": [
    "print(df.columns.tolist())\n"
   ]
  },
  {
   "cell_type": "code",
   "execution_count": 40,
   "id": "0591c36d",
   "metadata": {},
   "outputs": [],
   "source": [
    "df = pd.read_csv(\"C:\\\\Users\\\\Haine\\\\OneDrive\\\\Escritorio\\\\Proyecto_2\\\\Data\\\\bank_cleaned.csv\")\n",
    "df\n",
    "\n",
    "\n",
    "# Supongamos que df contiene los datos originales con identificador del cliente\n",
    "df['probabilidad_si'] = model.predict_proba(X)[:, 1]\n",
    "\n",
    "# Ordenar de mayor a menor probabilidad\n",
    "df_ranked = df.sort_values(by='probabilidad_si', ascending=False)\n",
    "\n",
    "# Agregar posición de ranking\n",
    "df_ranked['ranking'] = range(1, len(df_ranked) + 1)\n",
    "\n",
    "# Ver top 10\n",
    "df_ranked[['Unnamed: 0', 'probabilidad_si', 'ranking']].head(10)\n",
    "df_ranked.rename(columns={'Unnamed: 0': 'customer_id'}, inplace=True)\n",
    "df_ranked[['customer_id', 'probabilidad_si', 'ranking']].head(10)\n",
    "\n",
    "df_ranked.to_csv(\"ranking_clientes.csv\", index=False)\n",
    "\n",
    "\n"
   ]
  },
  {
   "cell_type": "code",
   "execution_count": 41,
   "id": "de7a921c",
   "metadata": {},
   "outputs": [
    {
     "data": {
      "application/vnd.microsoft.datawrangler.viewer.v0+json": {
       "columns": [
        {
         "name": "index",
         "rawType": "int64",
         "type": "integer"
        },
        {
         "name": "customer_id",
         "rawType": "int64",
         "type": "integer"
        },
        {
         "name": "probabilidad_si",
         "rawType": "float64",
         "type": "float"
        },
        {
         "name": "ranking",
         "rawType": "int64",
         "type": "integer"
        }
       ],
       "ref": "f907ff2a-fd65-4659-adb4-72ea659ddb96",
       "rows": [
        [
         "37955",
         "41610",
         "0.9999999756471888",
         "1"
        ],
        [
         "38150",
         "41842",
         "0.9999999717735414",
         "2"
        ],
        [
         "39843",
         "43924",
         "0.9999999667702093",
         "3"
        ],
        [
         "38728",
         "42534",
         "0.9999999651319514",
         "4"
        ],
        [
         "39875",
         "43965",
         "0.9999999596293253",
         "5"
        ],
        [
         "40508",
         "44786",
         "0.9999999529565169",
         "6"
        ],
        [
         "38887",
         "42730",
         "0.9999999464039053",
         "7"
        ],
        [
         "37936",
         "41588",
         "0.9999999418898013",
         "8"
        ],
        [
         "39526",
         "43532",
         "0.9999999375323873",
         "9"
        ],
        [
         "38788",
         "42607",
         "0.99999993131127",
         "10"
        ],
        [
         "38892",
         "42737",
         "0.9999999294234617",
         "11"
        ],
        [
         "39330",
         "43281",
         "0.9999999041389908",
         "12"
        ],
        [
         "40734",
         "45072",
         "0.9999999005856316",
         "13"
        ],
        [
         "38240",
         "41947",
         "0.9999998963085829",
         "14"
        ],
        [
         "38826",
         "42656",
         "0.9999998790748013",
         "15"
        ],
        [
         "23262",
         "24622",
         "0.9999998690635481",
         "16"
        ],
        [
         "40032",
         "44167",
         "0.9999998644758498",
         "17"
        ],
        [
         "39233",
         "43158",
         "0.9999998618690977",
         "18"
        ],
        [
         "39305",
         "43251",
         "0.9999998602737601",
         "19"
        ],
        [
         "40486",
         "44756",
         "0.9999998590515399",
         "20"
        ],
        [
         "38255",
         "41967",
         "0.999999858872931",
         "21"
        ],
        [
         "38922",
         "42779",
         "0.9999998471574407",
         "22"
        ],
        [
         "39872",
         "43961",
         "0.9999998408809763",
         "23"
        ],
        [
         "37133",
         "40630",
         "0.9999998323135665",
         "24"
        ],
        [
         "38727",
         "42533",
         "0.9999998289775839",
         "25"
        ],
        [
         "38097",
         "41786",
         "0.9999998231613845",
         "26"
        ],
        [
         "38243",
         "41951",
         "0.9999998130167381",
         "27"
        ],
        [
         "38059",
         "41740",
         "0.999999809573135",
         "28"
        ],
        [
         "16118",
         "17104",
         "0.999999804548914",
         "29"
        ],
        [
         "40118",
         "44279",
         "0.9999997934951561",
         "30"
        ],
        [
         "36780",
         "40218",
         "0.9999997823735122",
         "31"
        ],
        [
         "38889",
         "42733",
         "0.9999997755476735",
         "32"
        ],
        [
         "38189",
         "41885",
         "0.9999997633676212",
         "33"
        ],
        [
         "40402",
         "44643",
         "0.9999997406142922",
         "34"
        ],
        [
         "39374",
         "43343",
         "0.999999740264299",
         "35"
        ],
        [
         "31341",
         "33920",
         "0.9999997379855721",
         "36"
        ],
        [
         "9355",
         "9947",
         "0.9999997307639655",
         "37"
        ],
        [
         "40020",
         "44151",
         "0.9999997181505307",
         "38"
        ],
        [
         "39354",
         "43316",
         "0.9999997109668006",
         "39"
        ],
        [
         "15977",
         "16960",
         "0.9999997070072567",
         "40"
        ],
        [
         "40477",
         "44746",
         "0.99999970586248",
         "41"
        ],
        [
         "36901",
         "40363",
         "0.9999997040010419",
         "42"
        ],
        [
         "38870",
         "42710",
         "0.99999969965676",
         "43"
        ],
        [
         "38932",
         "42791",
         "0.9999996866792831",
         "44"
        ],
        [
         "39558",
         "43579",
         "0.9999996776208699",
         "45"
        ],
        [
         "38911",
         "42763",
         "0.9999996507329306",
         "46"
        ],
        [
         "39338",
         "43291",
         "0.999999628596032",
         "47"
        ],
        [
         "37238",
         "40757",
         "0.9999996229167892",
         "48"
        ],
        [
         "39107",
         "43007",
         "0.9999996178528138",
         "49"
        ],
        [
         "40211",
         "44403",
         "0.9999996141715884",
         "50"
        ]
       ],
       "shape": {
        "columns": 3,
        "rows": 40841
       }
      },
      "text/html": [
       "<div>\n",
       "<style scoped>\n",
       "    .dataframe tbody tr th:only-of-type {\n",
       "        vertical-align: middle;\n",
       "    }\n",
       "\n",
       "    .dataframe tbody tr th {\n",
       "        vertical-align: top;\n",
       "    }\n",
       "\n",
       "    .dataframe thead th {\n",
       "        text-align: right;\n",
       "    }\n",
       "</style>\n",
       "<table border=\"1\" class=\"dataframe\">\n",
       "  <thead>\n",
       "    <tr style=\"text-align: right;\">\n",
       "      <th></th>\n",
       "      <th>customer_id</th>\n",
       "      <th>probabilidad_si</th>\n",
       "      <th>ranking</th>\n",
       "    </tr>\n",
       "  </thead>\n",
       "  <tbody>\n",
       "    <tr>\n",
       "      <th>37955</th>\n",
       "      <td>41610</td>\n",
       "      <td>1.000000e+00</td>\n",
       "      <td>1</td>\n",
       "    </tr>\n",
       "    <tr>\n",
       "      <th>38150</th>\n",
       "      <td>41842</td>\n",
       "      <td>1.000000e+00</td>\n",
       "      <td>2</td>\n",
       "    </tr>\n",
       "    <tr>\n",
       "      <th>39843</th>\n",
       "      <td>43924</td>\n",
       "      <td>1.000000e+00</td>\n",
       "      <td>3</td>\n",
       "    </tr>\n",
       "    <tr>\n",
       "      <th>38728</th>\n",
       "      <td>42534</td>\n",
       "      <td>1.000000e+00</td>\n",
       "      <td>4</td>\n",
       "    </tr>\n",
       "    <tr>\n",
       "      <th>39875</th>\n",
       "      <td>43965</td>\n",
       "      <td>1.000000e+00</td>\n",
       "      <td>5</td>\n",
       "    </tr>\n",
       "    <tr>\n",
       "      <th>...</th>\n",
       "      <td>...</td>\n",
       "      <td>...</td>\n",
       "      <td>...</td>\n",
       "    </tr>\n",
       "    <tr>\n",
       "      <th>31995</th>\n",
       "      <td>34677</td>\n",
       "      <td>1.902406e-08</td>\n",
       "      <td>40837</td>\n",
       "    </tr>\n",
       "    <tr>\n",
       "      <th>31746</th>\n",
       "      <td>34399</td>\n",
       "      <td>1.733256e-08</td>\n",
       "      <td>40838</td>\n",
       "    </tr>\n",
       "    <tr>\n",
       "      <th>35557</th>\n",
       "      <td>38802</td>\n",
       "      <td>1.434686e-08</td>\n",
       "      <td>40839</td>\n",
       "    </tr>\n",
       "    <tr>\n",
       "      <th>39616</th>\n",
       "      <td>43648</td>\n",
       "      <td>1.059007e-08</td>\n",
       "      <td>40840</td>\n",
       "    </tr>\n",
       "    <tr>\n",
       "      <th>35841</th>\n",
       "      <td>39141</td>\n",
       "      <td>4.537087e-09</td>\n",
       "      <td>40841</td>\n",
       "    </tr>\n",
       "  </tbody>\n",
       "</table>\n",
       "<p>40841 rows × 3 columns</p>\n",
       "</div>"
      ],
      "text/plain": [
       "       customer_id  probabilidad_si  ranking\n",
       "37955        41610     1.000000e+00        1\n",
       "38150        41842     1.000000e+00        2\n",
       "39843        43924     1.000000e+00        3\n",
       "38728        42534     1.000000e+00        4\n",
       "39875        43965     1.000000e+00        5\n",
       "...            ...              ...      ...\n",
       "31995        34677     1.902406e-08    40837\n",
       "31746        34399     1.733256e-08    40838\n",
       "35557        38802     1.434686e-08    40839\n",
       "39616        43648     1.059007e-08    40840\n",
       "35841        39141     4.537087e-09    40841\n",
       "\n",
       "[40841 rows x 3 columns]"
      ]
     },
     "execution_count": 41,
     "metadata": {},
     "output_type": "execute_result"
    }
   ],
   "source": [
    "df_ranked[['customer_id', 'probabilidad_si', 'ranking']]\n"
   ]
  },
  {
   "cell_type": "code",
   "execution_count": 43,
   "id": "390fff8c",
   "metadata": {},
   "outputs": [
    {
     "ename": "NameError",
     "evalue": "name 'df_scaled' is not defined",
     "output_type": "error",
     "traceback": [
      "\u001b[1;31m---------------------------------------------------------------------------\u001b[0m",
      "\u001b[1;31mNameError\u001b[0m                                 Traceback (most recent call last)",
      "Cell \u001b[1;32mIn[43], line 8\u001b[0m\n\u001b[0;32m      4\u001b[0m \u001b[38;5;28;01mimport\u001b[39;00m \u001b[38;5;21;01mpandas\u001b[39;00m \u001b[38;5;28;01mas\u001b[39;00m \u001b[38;5;21;01mpd\u001b[39;00m\n\u001b[0;32m      7\u001b[0m \u001b[38;5;66;03m# Renombrar columna para mayor claridad (solo si no lo hiciste ya)\u001b[39;00m\n\u001b[1;32m----> 8\u001b[0m \u001b[43mdf_scaled\u001b[49m\u001b[38;5;241m.\u001b[39mrename(columns\u001b[38;5;241m=\u001b[39m{\u001b[38;5;124m'\u001b[39m\u001b[38;5;124mUnnamed: 0\u001b[39m\u001b[38;5;124m'\u001b[39m: \u001b[38;5;124m'\u001b[39m\u001b[38;5;124mcustomer_id\u001b[39m\u001b[38;5;124m'\u001b[39m}, inplace\u001b[38;5;241m=\u001b[39m\u001b[38;5;28;01mTrue\u001b[39;00m)\n\u001b[0;32m     10\u001b[0m \u001b[38;5;66;03m# Mostrar top 10 clientes según el ranking manual\u001b[39;00m\n\u001b[0;32m     11\u001b[0m \u001b[38;5;28mprint\u001b[39m(df_scaled[[\u001b[38;5;124m'\u001b[39m\u001b[38;5;124mcustomer_id\u001b[39m\u001b[38;5;124m'\u001b[39m, \u001b[38;5;124m'\u001b[39m\u001b[38;5;124mprobabilidad_si\u001b[39m\u001b[38;5;124m'\u001b[39m, \u001b[38;5;124m'\u001b[39m\u001b[38;5;124mranking\u001b[39m\u001b[38;5;124m'\u001b[39m]]\u001b[38;5;241m.\u001b[39mhead(\u001b[38;5;241m10\u001b[39m))\n",
      "\u001b[1;31mNameError\u001b[0m: name 'df_scaled' is not defined"
     ]
    }
   ],
   "source": [
    "# Normalizar variables para que estén en la misma escala\n",
    "from sklearn.preprocessing import MinMaxScaler\n",
    "import numpy as np\n",
    "import pandas as pd\n",
    "\n",
    "\n",
    "# Renombrar columna para mayor claridad (solo si no lo hiciste ya)\n",
    "df_scaled.rename(columns={'Unnamed: 0': 'customer_id'}, inplace=True)\n",
    "\n",
    "# Mostrar top 10 clientes según el ranking manual\n",
    "print(df_scaled[['customer_id', 'probabilidad_si', 'ranking']].head(10))\n",
    "\n",
    "criterios = ['balance', 'duration', 'age']\n",
    "scaler = MinMaxScaler()\n",
    "df_scaled = df.copy()\n",
    "df_scaled[criterios] = scaler.fit_transform(df[criterios])\n",
    "\n",
    "# Crear una puntuación ponderada (por ejemplo)\n",
    "df_scaled['probabilidad_si'] = (\n",
    "    0.5 * df_scaled['balance'] +\n",
    "    0.3 * df_scaled['duration'] -\n",
    "    0.2 * df_scaled['campaign']  # penaliza llamadas excesivas\n",
    ")\n",
    "# Ordenar por puntuación\n",
    "df_scaled = df_scaled.sort_values(by='probabilidad_si', ascending=False)\n",
    "df_scaled['ranking'] = range(1, len(df_scaled) + 1)\n",
    "\n",
    "\n"
   ]
  }
 ],
 "metadata": {
  "kernelspec": {
   "display_name": "base",
   "language": "python",
   "name": "python3"
  },
  "language_info": {
   "codemirror_mode": {
    "name": "ipython",
    "version": 3
   },
   "file_extension": ".py",
   "mimetype": "text/x-python",
   "name": "python",
   "nbconvert_exporter": "python",
   "pygments_lexer": "ipython3",
   "version": "3.12.9"
  }
 },
 "nbformat": 4,
 "nbformat_minor": 5
}
